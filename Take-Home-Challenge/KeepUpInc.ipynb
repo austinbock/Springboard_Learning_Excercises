{
 "cells": [
  {
   "cell_type": "markdown",
   "metadata": {},
   "source": [
    "### For this exercise, you will analyze a dataset from Amazon. \n",
    "\n",
    "### With the given data for 548552 products, perform exploratory analysis and make suggestions for further analysis on the following aspects:\n",
    "### 1. Trustworthiness of ratings\n",
    "Ratings are susceptible to manipulation, bias etc. What can you say (quantitatively\n",
    "speaking) about the ratings in this dataset?\n",
    "\n",
    "### 2. Category bloat\n",
    "\n",
    "Consider the product group named 'Books'. Each product in this group is associated with\n",
    "categories. Naturally, with categorization, there are tradeoffs between how broad or\n",
    "specific the categories must be.  For this dataset, quantify the following:\n",
    "\n",
    "    a. Is there redundancy in the categorization? How can it be identified/removed?\n",
    "    b. Is is possible to reduce the number of categories drastically (say to 10% of existing categories) by sacrificing relatively few category entries (say close to 10%)?"
   ]
  },
  {
   "cell_type": "code",
   "execution_count": 256,
   "metadata": {
    "collapsed": false
   },
   "outputs": [
    {
     "name": "stdout",
     "output_type": "stream",
     "text": [
      "Populating the interactive namespace from numpy and matplotlib\n"
     ]
    },
    {
     "name": "stderr",
     "output_type": "stream",
     "text": [
      "C:\\Users\\mabock\\AppData\\Local\\Continuum\\Anaconda3\\lib\\site-packages\\IPython\\core\\magics\\pylab.py:161: UserWarning: pylab import has clobbered these variables: ['text', 'title', 'product']\n",
      "`%matplotlib` prevents importing * from pylab and numpy\n",
      "  \"\\n`%matplotlib` prevents importing * from pylab and numpy\"\n"
     ]
    }
   ],
   "source": [
    "import pandas as pd\n",
    "import numpy as np\n",
    "%pylab inline"
   ]
  },
  {
   "cell_type": "code",
   "execution_count": 257,
   "metadata": {
    "collapsed": false
   },
   "outputs": [
    {
     "data": {
      "text/plain": [
       "'# Full information about Amazon Share the Love products\\nTotal items: 548552\\n\\nId:   0\\nASIN: 0771044445\\n  discontinued product\\n\\nId:   1\\nASIN: 0827229534\\n  title: Patterns of Preaching: A Sermon Sampler\\n  group: Book\\n  salesrank: 396585\\n  similar: 5  0804215715  156101074X  0687023955  0687074231  082721619X\\n  categories: 2\\n   |Books[283155]|Subjects[1000]|Religion & Spirituality[22]|Christianity[12290]|Clergy[12360]|Preaching[12368]\\n   |Books[283155]|Subjects[1000]|Religion & Spirituality[22]|Christianity[12290]|Clergy[12360]|Sermons[12370]\\n  reviews: total: 2  downloaded: 2  avg rating: 5\\n    2000-7-28  cutomer: A2JW67OY8U6HHK  rating: 5  votes:  10  helpful:   9\\n    2003-12-14  cutomer: A2VE83MZF98ITY  rating: 5  votes:   6  helpful:   5\\n\\nId:   2\\nASIN: 0738700797\\n  title: Candlemas: Feast of Flames\\n  group: Book\\n  salesrank: 168596\\n  similar: 5  0738700827  1567184960  1567182836  0738700525  0738700940\\n  categories: 2\\n   |Books[283155]|Subjects[1000]|Religion & Spirituality[22]|Earth-'"
      ]
     },
     "execution_count": 257,
     "metadata": {},
     "output_type": "execute_result"
    }
   ],
   "source": [
    "with open('../KeepUp/amazon-meta.txt', encoding=\"utf8\") as myfile:\n",
    "    text = myfile.read()\n",
    "myfile.close()\n",
    "text[:1000]"
   ]
  },
  {
   "cell_type": "markdown",
   "metadata": {},
   "source": [
    "#### We get a quick look at the file structure and see each entry can be grouped by product 'Id: ' as was listed in the data description.  The Id:  entries are seperated by double line breaks which is how we will group the entries when parsing."
   ]
  },
  {
   "cell_type": "code",
   "execution_count": 258,
   "metadata": {
    "collapsed": false
   },
   "outputs": [
    {
     "data": {
      "text/plain": [
       "[['Id:   0', 'ASIN: 0771044445', '  discontinued product'],\n",
       " ['Id:   1',\n",
       "  'ASIN: 0827229534',\n",
       "  '  title: Patterns of Preaching: A Sermon Sampler',\n",
       "  '  group: Book',\n",
       "  '  salesrank: 396585',\n",
       "  '  similar: 5  0804215715  156101074X  0687023955  0687074231  082721619X',\n",
       "  '  categories: 2',\n",
       "  '   |Books[283155]|Subjects[1000]|Religion & Spirituality[22]|Christianity[12290]|Clergy[12360]|Preaching[12368]',\n",
       "  '   |Books[283155]|Subjects[1000]|Religion & Spirituality[22]|Christianity[12290]|Clergy[12360]|Sermons[12370]',\n",
       "  '  reviews: total: 2  downloaded: 2  avg rating: 5',\n",
       "  '    2000-7-28  cutomer: A2JW67OY8U6HHK  rating: 5  votes:  10  helpful:   9',\n",
       "  '    2003-12-14  cutomer: A2VE83MZF98ITY  rating: 5  votes:   6  helpful:   5'],\n",
       " ['Id:   2',\n",
       "  'ASIN: 0738700797',\n",
       "  '  title: Candlemas: Feast of Flames',\n",
       "  '  group: Book',\n",
       "  '  salesrank: 168596',\n",
       "  '  similar: 5  0738700827  1567184960  1567182836  0738700525  0738700940',\n",
       "  '  categories: 2',\n",
       "  '   |Books[283155]|Subjects[1000]|Religion & Spirituality[22]|Earth-Based Religions[12472]|Wicca[12484]',\n",
       "  '   |Books[283155]|Subjects[1000]|Religion & Spirituality[22]|Earth-Based Religions[12472]|Witchcraft[12486]',\n",
       "  '  reviews: total: 12  downloaded: 12  avg rating: 4.5',\n",
       "  '    2001-12-16  cutomer: A11NCO6YTE4BTJ  rating: 5  votes:   5  helpful:   4',\n",
       "  '    2002-1-7  cutomer:  A9CQ3PLRNIR83  rating: 4  votes:   5  helpful:   5',\n",
       "  '    2002-1-24  cutomer: A13SG9ACZ9O5IM  rating: 5  votes:   8  helpful:   8',\n",
       "  '    2002-1-28  cutomer: A1BDAI6VEYMAZA  rating: 5  votes:   4  helpful:   4',\n",
       "  '    2002-2-6  cutomer: A2P6KAWXJ16234  rating: 4  votes:  16  helpful:  16',\n",
       "  '    2002-2-14  cutomer:  AMACWC3M7PQFR  rating: 4  votes:   5  helpful:   5',\n",
       "  '    2002-3-23  cutomer: A3GO7UV9XX14D8  rating: 4  votes:   6  helpful:   6',\n",
       "  '    2002-5-23  cutomer: A1GIL64QK68WKL  rating: 5  votes:   8  helpful:   8',\n",
       "  '    2003-2-25  cutomer:  AEOBOF2ONQJWV  rating: 5  votes:   8  helpful:   5',\n",
       "  '    2003-11-25  cutomer: A3IGHTES8ME05L  rating: 5  votes:   5  helpful:   5',\n",
       "  '    2004-2-11  cutomer: A1CP26N8RHYVVO  rating: 1  votes:  13  helpful:   9',\n",
       "  '    2005-2-7  cutomer:  ANEIANH0WAT9D  rating: 5  votes:   1  helpful:   1']]"
      ]
     },
     "execution_count": 258,
     "metadata": {},
     "output_type": "execute_result"
    }
   ],
   "source": [
    "#parse and group lines looking for extra break before Id:\n",
    "id_groups = []  #entire string block for each product id\n",
    "entry = []  #text parts for each id\n",
    "for line in text.split('\\n'):\n",
    "    if line != '':\n",
    "        entry.append(line)\n",
    "    else:\n",
    "        id_groups.append(entry)\n",
    "        entry = []\n",
    "del id_groups[0]  #remove first entry that isn't related to product Id\n",
    "id_groups[0:3]\n"
   ]
  },
  {
   "cell_type": "markdown",
   "metadata": {},
   "source": [
    "#### To answer the first question we must extract each product rating into a dataframe to analyze."
   ]
  },
  {
   "cell_type": "code",
   "execution_count": null,
   "metadata": {
    "collapsed": false
   },
   "outputs": [],
   "source": [
    "snip = id_groups[0:2]\n",
    "del snip[0]\n",
    "snip"
   ]
  },
  {
   "cell_type": "code",
   "execution_count": null,
   "metadata": {
    "collapsed": false
   },
   "outputs": [],
   "source": [
    "import re\n",
    "ratings={}  #ratings dictionary\n",
    "skip = False\n",
    "\n",
    "#extract the main info, there are still further breakdowns for extracting actual similar, categories, and review entries that\n",
    "#are not completed here\n",
    "for group in id_groups:\n",
    "    for block in group:\n",
    "        if block.startswith('Id:'):\n",
    "            Id = block.split()[-1]\n",
    "        elif block.startswith('ASIN:'):\n",
    "            ASIN = block.split()[-1]\n",
    "        elif re.match('.*title:',block):\n",
    "            title = block.split(':')[-1]\n",
    "        elif re.match('.*group:',block):\n",
    "            group = block.split(':')[-1]\n",
    "        elif re.match('.*rank:',block):\n",
    "            salesrank = block.split(':')[-1]\n",
    "        elif re.match('.*similar:',block):\n",
    "            similar = block.split(':')[-1]\n",
    "        elif re.match('.*categories:',block):\n",
    "            num_categories = block.split(':')[-1]\n",
    "        elif re.match('.*reviews:',block):\n",
    "            total_reviews = block.split()[2]\n",
    "            downloads = block.split()[4]\n",
    "            avg_rating = block.split()[7]\n",
    "        elif re.match('.*discontinued product',block):\n",
    "            skip = True\n",
    "    if skip != True:\n",
    "        ratings[Id] = [ASIN, title, group, salesrank, similar, num_categories, total_reviews, downloads, avg_rating]\n",
    "    else:\n",
    "        skip = False"
   ]
  },
  {
   "cell_type": "code",
   "execution_count": null,
   "metadata": {
    "collapsed": false
   },
   "outputs": [],
   "source": [
    "data_df = pd.DataFrame.from_dict(ratings)\n",
    "data_df.head()"
   ]
  },
  {
   "cell_type": "code",
   "execution_count": null,
   "metadata": {
    "collapsed": false
   },
   "outputs": [],
   "source": [
    "df = data_df.T.reset_index()\n",
    "df.columns = ['Id', 'ASIN', 'title', 'group', 'salesrank', 'similar', 'num_categories', 'total_reviews',\n",
    "              'downloads', 'avg_rating']\n",
    "df.head()"
   ]
  },
  {
   "cell_type": "code",
   "execution_count": null,
   "metadata": {
    "collapsed": false
   },
   "outputs": [],
   "source": [
    "#covert some string object to numerical\n",
    "df['Id'] = df['Id'].astype(int)\n",
    "df['salesrank'] = df['salesrank'].astype(int)\n",
    "df['num_categories'] = df['num_categories'].astype(int)\n",
    "df['total_reviews'] = df['total_reviews'].astype(int)\n",
    "df['downloads'] = df['downloads'].astype(int)\n",
    "df['avg_rating'] = df['avg_rating'].astype(float)\n",
    "df['group'] = df['group'].astype(str)\n",
    "df = df.sort_values('Id')\n",
    "df.head()"
   ]
  },
  {
   "cell_type": "code",
   "execution_count": null,
   "metadata": {
    "collapsed": false
   },
   "outputs": [],
   "source": [
    "#what are all the product groups\n",
    "df.group.value_counts()"
   ]
  },
  {
   "cell_type": "markdown",
   "metadata": {},
   "source": [
    "We can see there are a few product groups that do not appear very often.  For exploring the ratings, we will focus only of the top 4 group categories from the list."
   ]
  },
  {
   "cell_type": "code",
   "execution_count": null,
   "metadata": {
    "collapsed": false
   },
   "outputs": [],
   "source": [
    "list = [' Book', ' Music', ' Video', ' DVD']\n",
    "df2 = df[df['group'].isin(list)]\n",
    "df2.group.value_counts()"
   ]
  },
  {
   "cell_type": "code",
   "execution_count": null,
   "metadata": {
    "collapsed": false
   },
   "outputs": [],
   "source": [
    "df2.describe()"
   ]
  },
  {
   "cell_type": "code",
   "execution_count": null,
   "metadata": {
    "collapsed": false
   },
   "outputs": [],
   "source": [
    "df2['avg_rating'].plot(kind = 'hist')"
   ]
  },
  {
   "cell_type": "markdown",
   "metadata": {},
   "source": [
    "The histogram of avg ratings is interesting in that the extremes of ratings 0 vs 5 appear with much more frequency than do middling reviews.  There ends up being a bias in the ratings in that the extrems, people who are either very please or very displeased, tend to have a higher rating entry capture rate.\n"
   ]
  },
  {
   "cell_type": "markdown",
   "metadata": {},
   "source": [
    "### Category bloat\n",
    "Consider the product group named 'Books'. Each product in this group is associated with categories. Naturally, with categorization, there are tradeoffs between how broad or specific the categories must be. For this dataset, quantify the following:\n",
    "\n",
    "a. Is there redundancy in the categorization? How can it be identified/removed?\n",
    "\n",
    "b. Is is possible to reduce the number of categories drastically (say to 10% of existing categories) by sacrificing relatively few category entries (say close to 10%)?"
   ]
  },
  {
   "cell_type": "markdown",
   "metadata": {},
   "source": [
    "#### For part a, we will need to split apart the categorization better."
   ]
  },
  {
   "cell_type": "code",
   "execution_count": null,
   "metadata": {
    "collapsed": false
   },
   "outputs": [],
   "source": [
    "import re\n",
    "category_list=[]  #top category list\n",
    "totals = 0\n",
    "#lets strip out the subcategories for books and create a df\n",
    "for group in id_groups:\n",
    "    for block in group:\n",
    "        if block.startswith('  group:'):\n",
    "            product = block.split(':')[-1]\n",
    "            if 'Book' in product : totals+=1\n",
    "        elif block.startswith('   |Books'):\n",
    "            category_list.append(block.strip())\n",
    "sub_category = []\n",
    "for line in category_list:\n",
    "    for subcat in line.split('|')[1:]:\n",
    "        sub_category.append(subcat)\n",
    "\n",
    "categorical_df = pd.DataFrame.from_dict(sub_category)\n",
    "categorical_df.head()"
   ]
  },
  {
   "cell_type": "code",
   "execution_count": null,
   "metadata": {
    "collapsed": false
   },
   "outputs": [],
   "source": [
    "print ('total number of books                               :', totals)\n",
    "print ('total categories/sub_categories for all books       :', len(categorical_df[0]))\n",
    "print ('total unique categories/sub_categories for all books:', len(categorical_df[0].unique()))\n",
    "\n",
    "#get the unique category counts and exploring the top 20 unique\n",
    "categorical_df[0].value_counts().head(20)"
   ]
  },
  {
   "cell_type": "markdown",
   "metadata": {},
   "source": [
    "We can see that there is a fair amount of redundancy in the category structure setup.  Entries that are very non-descript like \"Subjects\" might easily be dropped.  "
   ]
  },
  {
   "cell_type": "markdown",
   "metadata": {},
   "source": [
    "### B. (Suggested duration: 30 mins)\n",
    "\n",
    "#### 1. Algorithm thinking\n",
    "How would build the product categorization from scratch, using similar/co-purchased\n",
    "information?\n",
    "#### 2. Product thinking\n",
    "Now, put on your 'product thinking' hat.\n",
    "\n",
    "    a. Is it a good idea to show users the categorization hierarchy for items?\n",
    "    b. Is it a good idea to show users similar/co-purchased items?\n",
    "    c. Is it a good idea to show users reviews and ratings for items?\n",
    "    d. For each of the above, why? How will you establish the same?"
   ]
  },
  {
   "cell_type": "markdown",
   "metadata": {},
   "source": [
    "The best way to create a product categorization schema from scratch may be to create a categorization algorithm from the purchase information and the item descriptions.  \n",
    "\n",
    "I believe categorization heirachy is not a necessary item to show, but when a user wants to see it there could be an available drop down.  This would prevent cluttering but still allow the user to access the info if wanted.\n",
    "\n",
    "Showing similar/co-purchased items is a great idea to show users.  Often times this can speed up the search process for the user and the user may not always be aware they need or want the similar/co-purchased item until reminded.  This could increase the number of purchases made per visit.  \n",
    "\n",
    "User reviews and ratings are critical to many user's purchase habits and should be shown.  Care must be taken to ensure the reviews/ratings are as accurate and trustworthy as possible because negative experience on a product could also erode trust in purchasing from the site again.\n",
    "\n"
   ]
  },
  {
   "cell_type": "code",
   "execution_count": null,
   "metadata": {
    "collapsed": true
   },
   "outputs": [],
   "source": []
  },
  {
   "cell_type": "code",
   "execution_count": null,
   "metadata": {
    "collapsed": true
   },
   "outputs": [],
   "source": []
  },
  {
   "cell_type": "code",
   "execution_count": null,
   "metadata": {
    "collapsed": true
   },
   "outputs": [],
   "source": []
  },
  {
   "cell_type": "code",
   "execution_count": null,
   "metadata": {
    "collapsed": true
   },
   "outputs": [],
   "source": []
  }
 ],
 "metadata": {
  "kernelspec": {
   "display_name": "Python 3",
   "language": "python",
   "name": "python3"
  },
  "language_info": {
   "codemirror_mode": {
    "name": "ipython",
    "version": 3
   },
   "file_extension": ".py",
   "mimetype": "text/x-python",
   "name": "python",
   "nbconvert_exporter": "python",
   "pygments_lexer": "ipython3",
   "version": "3.6.0"
  }
 },
 "nbformat": 4,
 "nbformat_minor": 2
}
