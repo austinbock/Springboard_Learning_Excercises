{
 "cells": [
  {
   "cell_type": "markdown",
   "metadata": {},
   "source": [
    "### For this exercise, you will analyze a dataset from Amazon. \n",
    "\n",
    "### With the given data for 548552 products, perform exploratory analysis and make suggestions for further analysis on the following aspects:\n",
    "### 1. Trustworthiness of ratings\n",
    "Ratings are susceptible to manipulation, bias etc. What can you say (quantitatively\n",
    "speaking) about the ratings in this dataset?\n",
    "\n",
    "### 2. Category bloat\n",
    "\n",
    "Consider the product group named 'Books'. Each product in this group is associated with\n",
    "categories. Naturally, with categorization, there are tradeoffs between how broad or\n",
    "specific the categories must be.  For this dataset, quantify the following:\n",
    "\n",
    "    a. Is there redundancy in the categorization? How can it be identified/removed?\n",
    "    b. Is is possible to reduce the number of categories drastically (say to 10% of existing categories) by sacrificing relatively few category entries (say close to 10%)?"
   ]
  },
  {
   "cell_type": "code",
   "execution_count": 1,
   "metadata": {
    "collapsed": false
   },
   "outputs": [
    {
     "name": "stdout",
     "output_type": "stream",
     "text": [
      "Populating the interactive namespace from numpy and matplotlib\n"
     ]
    }
   ],
   "source": [
    "import pandas as pd\n",
    "import numpy as np\n",
    "%pylab inline"
   ]
  },
  {
   "cell_type": "code",
   "execution_count": 2,
   "metadata": {
    "collapsed": false
   },
   "outputs": [
    {
     "data": {
      "text/plain": [
       "'# Full information about Amazon Share the Love products\\nTotal items: 548552\\n\\nId:   0\\nASIN: 0771044445\\n  discontinued product\\n\\nId:   1\\nASIN: 0827229534\\n  title: Patterns of Preaching: A Sermon Sampler\\n  group: Book\\n  salesrank: 396585\\n  similar: 5  0804215715  156101074X  0687023955  0687074231  082721619X\\n  categories: 2\\n   |Books[283155]|Subjects[1000]|Religion & Spirituality[22]|Christianity[12290]|Clergy[12360]|Preaching[12368]\\n   |Books[283155]|Subjects[1000]|Religion & Spirituality[22]|Christianity[12290]|Clergy[12360]|Sermons[12370]\\n  reviews: total: 2  downloaded: 2  avg rating: 5\\n    2000-7-28  cutomer: A2JW67OY8U6HHK  rating: 5  votes:  10  helpful:   9\\n    2003-12-14  cutomer: A2VE83MZF98ITY  rating: 5  votes:   6  helpful:   5\\n\\nId:   2\\nASIN: 0738700797\\n  title: Candlemas: Feast of Flames\\n  group: Book\\n  salesrank: 168596\\n  similar: 5  0738700827  1567184960  1567182836  0738700525  0738700940\\n  categories: 2\\n   |Books[283155]|Subjects[1000]|Religion & Spirituality[22]|Earth-'"
      ]
     },
     "execution_count": 2,
     "metadata": {},
     "output_type": "execute_result"
    }
   ],
   "source": [
    "with open('../KeepUp/amazon-meta.txt', encoding=\"utf8\") as myfile:\n",
    "    text = myfile.read()\n",
    "myfile.close()\n",
    "text[:1000]"
   ]
  },
  {
   "cell_type": "markdown",
   "metadata": {},
   "source": [
    "#### We get a quick look at the file structure and see each entry can be grouped by product 'Id: ' as was listed in the data description.  The Id:  entries are seperated by double line breaks which is how we will group the entries when parsing."
   ]
  },
  {
   "cell_type": "code",
   "execution_count": 3,
   "metadata": {
    "collapsed": false
   },
   "outputs": [
    {
     "data": {
      "text/plain": [
       "[['Id:   0', 'ASIN: 0771044445', '  discontinued product'],\n",
       " ['Id:   1',\n",
       "  'ASIN: 0827229534',\n",
       "  '  title: Patterns of Preaching: A Sermon Sampler',\n",
       "  '  group: Book',\n",
       "  '  salesrank: 396585',\n",
       "  '  similar: 5  0804215715  156101074X  0687023955  0687074231  082721619X',\n",
       "  '  categories: 2',\n",
       "  '   |Books[283155]|Subjects[1000]|Religion & Spirituality[22]|Christianity[12290]|Clergy[12360]|Preaching[12368]',\n",
       "  '   |Books[283155]|Subjects[1000]|Religion & Spirituality[22]|Christianity[12290]|Clergy[12360]|Sermons[12370]',\n",
       "  '  reviews: total: 2  downloaded: 2  avg rating: 5',\n",
       "  '    2000-7-28  cutomer: A2JW67OY8U6HHK  rating: 5  votes:  10  helpful:   9',\n",
       "  '    2003-12-14  cutomer: A2VE83MZF98ITY  rating: 5  votes:   6  helpful:   5'],\n",
       " ['Id:   2',\n",
       "  'ASIN: 0738700797',\n",
       "  '  title: Candlemas: Feast of Flames',\n",
       "  '  group: Book',\n",
       "  '  salesrank: 168596',\n",
       "  '  similar: 5  0738700827  1567184960  1567182836  0738700525  0738700940',\n",
       "  '  categories: 2',\n",
       "  '   |Books[283155]|Subjects[1000]|Religion & Spirituality[22]|Earth-Based Religions[12472]|Wicca[12484]',\n",
       "  '   |Books[283155]|Subjects[1000]|Religion & Spirituality[22]|Earth-Based Religions[12472]|Witchcraft[12486]',\n",
       "  '  reviews: total: 12  downloaded: 12  avg rating: 4.5',\n",
       "  '    2001-12-16  cutomer: A11NCO6YTE4BTJ  rating: 5  votes:   5  helpful:   4',\n",
       "  '    2002-1-7  cutomer:  A9CQ3PLRNIR83  rating: 4  votes:   5  helpful:   5',\n",
       "  '    2002-1-24  cutomer: A13SG9ACZ9O5IM  rating: 5  votes:   8  helpful:   8',\n",
       "  '    2002-1-28  cutomer: A1BDAI6VEYMAZA  rating: 5  votes:   4  helpful:   4',\n",
       "  '    2002-2-6  cutomer: A2P6KAWXJ16234  rating: 4  votes:  16  helpful:  16',\n",
       "  '    2002-2-14  cutomer:  AMACWC3M7PQFR  rating: 4  votes:   5  helpful:   5',\n",
       "  '    2002-3-23  cutomer: A3GO7UV9XX14D8  rating: 4  votes:   6  helpful:   6',\n",
       "  '    2002-5-23  cutomer: A1GIL64QK68WKL  rating: 5  votes:   8  helpful:   8',\n",
       "  '    2003-2-25  cutomer:  AEOBOF2ONQJWV  rating: 5  votes:   8  helpful:   5',\n",
       "  '    2003-11-25  cutomer: A3IGHTES8ME05L  rating: 5  votes:   5  helpful:   5',\n",
       "  '    2004-2-11  cutomer: A1CP26N8RHYVVO  rating: 1  votes:  13  helpful:   9',\n",
       "  '    2005-2-7  cutomer:  ANEIANH0WAT9D  rating: 5  votes:   1  helpful:   1']]"
      ]
     },
     "execution_count": 3,
     "metadata": {},
     "output_type": "execute_result"
    }
   ],
   "source": [
    "#parse and group lines looking for extra break before Id:\n",
    "id_groups = []  #entire string block for each product id\n",
    "entry = []  #text parts for each id\n",
    "for line in text.split('\\n'):\n",
    "    if line != '':\n",
    "        entry.append(line)\n",
    "    else:\n",
    "        id_groups.append(entry)\n",
    "        entry = []\n",
    "del id_groups[0]  #remove first entry that isn't related to product Id\n",
    "id_groups[0:3]\n"
   ]
  },
  {
   "cell_type": "markdown",
   "metadata": {},
   "source": [
    "#### To answer the first question we must extract each product rating into a dataframe to analyze."
   ]
  },
  {
   "cell_type": "code",
   "execution_count": 4,
   "metadata": {
    "collapsed": false
   },
   "outputs": [
    {
     "data": {
      "text/plain": [
       "[['Id:   1',\n",
       "  'ASIN: 0827229534',\n",
       "  '  title: Patterns of Preaching: A Sermon Sampler',\n",
       "  '  group: Book',\n",
       "  '  salesrank: 396585',\n",
       "  '  similar: 5  0804215715  156101074X  0687023955  0687074231  082721619X',\n",
       "  '  categories: 2',\n",
       "  '   |Books[283155]|Subjects[1000]|Religion & Spirituality[22]|Christianity[12290]|Clergy[12360]|Preaching[12368]',\n",
       "  '   |Books[283155]|Subjects[1000]|Religion & Spirituality[22]|Christianity[12290]|Clergy[12360]|Sermons[12370]',\n",
       "  '  reviews: total: 2  downloaded: 2  avg rating: 5',\n",
       "  '    2000-7-28  cutomer: A2JW67OY8U6HHK  rating: 5  votes:  10  helpful:   9',\n",
       "  '    2003-12-14  cutomer: A2VE83MZF98ITY  rating: 5  votes:   6  helpful:   5']]"
      ]
     },
     "execution_count": 4,
     "metadata": {},
     "output_type": "execute_result"
    }
   ],
   "source": [
    "snip = id_groups[0:2]\n",
    "del snip[0]\n",
    "snip"
   ]
  },
  {
   "cell_type": "code",
   "execution_count": 5,
   "metadata": {
    "collapsed": false
   },
   "outputs": [],
   "source": [
    "import re\n",
    "ratings={}  #ratings dictionary\n",
    "skip = False\n",
    "\n",
    "#extract the main info, there are still further breakdowns for extracting actual similar, categories, and review entries that\n",
    "#are not completed here\n",
    "for group in id_groups:\n",
    "    for block in group:\n",
    "        if block.startswith('Id:'):\n",
    "            Id = block.split()[-1]\n",
    "        elif block.startswith('ASIN:'):\n",
    "            ASIN = block.split()[-1]\n",
    "        elif re.match('.*title:',block):\n",
    "            title = block.split(':')[-1]\n",
    "        elif re.match('.*group:',block):\n",
    "            group = block.split(':')[-1]\n",
    "        elif re.match('.*rank:',block):\n",
    "            salesrank = block.split(':')[-1]\n",
    "        elif re.match('.*similar:',block):\n",
    "            similar = block.split(':')[-1]\n",
    "        elif re.match('.*categories:',block):\n",
    "            num_categories = block.split(':')[-1]\n",
    "        elif re.match('.*reviews:',block):\n",
    "            total_reviews = block.split()[2]\n",
    "            downloads = block.split()[4]\n",
    "            avg_rating = block.split()[7]\n",
    "        elif re.match('.*discontinued product',block):\n",
    "            skip = True\n",
    "    if skip != True:\n",
    "        ratings[Id] = [ASIN, title, group, salesrank, similar, num_categories, total_reviews, downloads, avg_rating]\n",
    "    else:\n",
    "        skip = False"
   ]
  },
  {
   "cell_type": "code",
   "execution_count": 6,
   "metadata": {
    "collapsed": false
   },
   "outputs": [
    {
     "data": {
      "text/html": [
       "<div>\n",
       "<table border=\"1\" class=\"dataframe\">\n",
       "  <thead>\n",
       "    <tr style=\"text-align: right;\">\n",
       "      <th></th>\n",
       "      <th>1</th>\n",
       "      <th>10</th>\n",
       "      <th>100</th>\n",
       "      <th>1000</th>\n",
       "      <th>10000</th>\n",
       "      <th>100000</th>\n",
       "      <th>100001</th>\n",
       "      <th>100002</th>\n",
       "      <th>100003</th>\n",
       "      <th>100004</th>\n",
       "      <th>...</th>\n",
       "      <th>99990</th>\n",
       "      <th>99991</th>\n",
       "      <th>99992</th>\n",
       "      <th>99993</th>\n",
       "      <th>99994</th>\n",
       "      <th>99995</th>\n",
       "      <th>99996</th>\n",
       "      <th>99997</th>\n",
       "      <th>99998</th>\n",
       "      <th>99999</th>\n",
       "    </tr>\n",
       "  </thead>\n",
       "  <tbody>\n",
       "    <tr>\n",
       "      <th>0</th>\n",
       "      <td>0827229534</td>\n",
       "      <td>0375709363</td>\n",
       "      <td>0787958743</td>\n",
       "      <td>0830815627</td>\n",
       "      <td>1589600282</td>\n",
       "      <td>1893115755</td>\n",
       "      <td>0553297090</td>\n",
       "      <td>6304198337</td>\n",
       "      <td>B00000G25A</td>\n",
       "      <td>B00000IIHJ</td>\n",
       "      <td>...</td>\n",
       "      <td>B00000G252</td>\n",
       "      <td>B00000G257</td>\n",
       "      <td>B00000G253</td>\n",
       "      <td>0886466636</td>\n",
       "      <td>0837730287</td>\n",
       "      <td>1585744212</td>\n",
       "      <td>0340728345</td>\n",
       "      <td>1857925246</td>\n",
       "      <td>0962153222</td>\n",
       "      <td>0966616820</td>\n",
       "    </tr>\n",
       "    <tr>\n",
       "      <th>1</th>\n",
       "      <td>A Sermon Sampler</td>\n",
       "      <td>The Edward Said Reader</td>\n",
       "      <td>A Systems Approach to Successful Training (J-...</td>\n",
       "      <td>Invitation to Theology</td>\n",
       "      <td>Exposition of Paul's Epistles</td>\n",
       "      <td>Internet Programming With VB</td>\n",
       "      <td>Timescape</td>\n",
       "      <td>Wish Fairies</td>\n",
       "      <td>Destiny</td>\n",
       "      <td>Celui Qui Chante</td>\n",
       "      <td>...</td>\n",
       "      <td>Tigers of the Raj</td>\n",
       "      <td>Kruder &amp; Dorfmeister Session</td>\n",
       "      <td>Secret of the Wind</td>\n",
       "      <td>Dark They Were and Golden Eyed</td>\n",
       "      <td>Kissing Legalese Goodbye</td>\n",
       "      <td>A Connoisseur's Guide to Gourmet Recipes and ...</td>\n",
       "      <td>Anoraknophobia</td>\n",
       "      <td>A Peep Behind the Scenes</td>\n",
       "      <td>German Texts</td>\n",
       "      <td>Secrets of Successful Fundraising</td>\n",
       "    </tr>\n",
       "    <tr>\n",
       "      <th>2</th>\n",
       "      <td>Book</td>\n",
       "      <td>Book</td>\n",
       "      <td>Book</td>\n",
       "      <td>Book</td>\n",
       "      <td>Book</td>\n",
       "      <td>Book</td>\n",
       "      <td>Book</td>\n",
       "      <td>Video</td>\n",
       "      <td>Music</td>\n",
       "      <td>Music</td>\n",
       "      <td>...</td>\n",
       "      <td>Music</td>\n",
       "      <td>Music</td>\n",
       "      <td>Music</td>\n",
       "      <td>Book</td>\n",
       "      <td>Book</td>\n",
       "      <td>Book</td>\n",
       "      <td>Book</td>\n",
       "      <td>Book</td>\n",
       "      <td>Book</td>\n",
       "      <td>Book</td>\n",
       "    </tr>\n",
       "    <tr>\n",
       "      <th>3</th>\n",
       "      <td>396585</td>\n",
       "      <td>220379</td>\n",
       "      <td>783690</td>\n",
       "      <td>497795</td>\n",
       "      <td>1544234</td>\n",
       "      <td>750978</td>\n",
       "      <td>139702</td>\n",
       "      <td>1277</td>\n",
       "      <td>24874</td>\n",
       "      <td>278300</td>\n",
       "      <td>...</td>\n",
       "      <td>107627</td>\n",
       "      <td>3436</td>\n",
       "      <td>79189</td>\n",
       "      <td>1224967</td>\n",
       "      <td>321276</td>\n",
       "      <td>345915</td>\n",
       "      <td>805006</td>\n",
       "      <td>1467003</td>\n",
       "      <td>606100</td>\n",
       "      <td>461669</td>\n",
       "    </tr>\n",
       "    <tr>\n",
       "      <th>4</th>\n",
       "      <td>5  0804215715  156101074X  0687023955  068707...</td>\n",
       "      <td>5  039474067X  0679730672  0679750541  140003...</td>\n",
       "      <td>5  1886624089  0397554168  1560535253  087584...</td>\n",
       "      <td>5  0830814493  0687095735  0801090962  096026...</td>\n",
       "      <td>0</td>\n",
       "      <td>2  186100222X  0782125573</td>\n",
       "      <td>5  0380790521  0446611557  0446611565  044661...</td>\n",
       "      <td>5  6303966268  6304133359  6303966276  630419...</td>\n",
       "      <td>5  B000000NMG  B00005NDUQ  B000000NKR  B00006...</td>\n",
       "      <td>0</td>\n",
       "      <td>...</td>\n",
       "      <td>5  B00008PRPN  B0000009D1  B000056EQO  B00001...</td>\n",
       "      <td>5  B00004KDDZ  B0000013EH  B00004WFIZ  B00000...</td>\n",
       "      <td>5  B0000009CM  B00006JID7  B00005QB43  B00005...</td>\n",
       "      <td>0</td>\n",
       "      <td>0</td>\n",
       "      <td>5  0894801341  189258803X  0767902637  155622...</td>\n",
       "      <td>5  0841730350  1840234954  1840234970  074325...</td>\n",
       "      <td>0</td>\n",
       "      <td>5  0962153214  0155848631  0131333720  019516...</td>\n",
       "      <td>5  0966616812  0062732056  0809238462  159196...</td>\n",
       "    </tr>\n",
       "  </tbody>\n",
       "</table>\n",
       "<p>5 rows × 542684 columns</p>\n",
       "</div>"
      ],
      "text/plain": [
       "                                                   1  \\\n",
       "0                                         0827229534   \n",
       "1                                   A Sermon Sampler   \n",
       "2                                               Book   \n",
       "3                                             396585   \n",
       "4   5  0804215715  156101074X  0687023955  068707...   \n",
       "\n",
       "                                                  10  \\\n",
       "0                                         0375709363   \n",
       "1                             The Edward Said Reader   \n",
       "2                                               Book   \n",
       "3                                             220379   \n",
       "4   5  039474067X  0679730672  0679750541  140003...   \n",
       "\n",
       "                                                 100  \\\n",
       "0                                         0787958743   \n",
       "1   A Systems Approach to Successful Training (J-...   \n",
       "2                                               Book   \n",
       "3                                             783690   \n",
       "4   5  1886624089  0397554168  1560535253  087584...   \n",
       "\n",
       "                                                1000  \\\n",
       "0                                         0830815627   \n",
       "1                             Invitation to Theology   \n",
       "2                                               Book   \n",
       "3                                             497795   \n",
       "4   5  0830814493  0687095735  0801090962  096026...   \n",
       "\n",
       "                            10000                         100000  \\\n",
       "0                      1589600282                     1893115755   \n",
       "1   Exposition of Paul's Epistles   Internet Programming With VB   \n",
       "2                            Book                           Book   \n",
       "3                         1544234                         750978   \n",
       "4                               0      2  186100222X  0782125573   \n",
       "\n",
       "                                              100001  \\\n",
       "0                                         0553297090   \n",
       "1                                          Timescape   \n",
       "2                                               Book   \n",
       "3                                             139702   \n",
       "4   5  0380790521  0446611557  0446611565  044661...   \n",
       "\n",
       "                                              100002  \\\n",
       "0                                         6304198337   \n",
       "1                                       Wish Fairies   \n",
       "2                                              Video   \n",
       "3                                               1277   \n",
       "4   5  6303966268  6304133359  6303966276  630419...   \n",
       "\n",
       "                                              100003             100004  \\\n",
       "0                                         B00000G25A         B00000IIHJ   \n",
       "1                                            Destiny   Celui Qui Chante   \n",
       "2                                              Music              Music   \n",
       "3                                              24874             278300   \n",
       "4   5  B000000NMG  B00005NDUQ  B000000NKR  B00006...                  0   \n",
       "\n",
       "                         ...                          \\\n",
       "0                        ...                           \n",
       "1                        ...                           \n",
       "2                        ...                           \n",
       "3                        ...                           \n",
       "4                        ...                           \n",
       "\n",
       "                                               99990  \\\n",
       "0                                         B00000G252   \n",
       "1                                  Tigers of the Raj   \n",
       "2                                              Music   \n",
       "3                                             107627   \n",
       "4   5  B00008PRPN  B0000009D1  B000056EQO  B00001...   \n",
       "\n",
       "                                               99991  \\\n",
       "0                                         B00000G257   \n",
       "1                       Kruder & Dorfmeister Session   \n",
       "2                                              Music   \n",
       "3                                               3436   \n",
       "4   5  B00004KDDZ  B0000013EH  B00004WFIZ  B00000...   \n",
       "\n",
       "                                               99992  \\\n",
       "0                                         B00000G253   \n",
       "1                                 Secret of the Wind   \n",
       "2                                              Music   \n",
       "3                                              79189   \n",
       "4   5  B0000009CM  B00006JID7  B00005QB43  B00005...   \n",
       "\n",
       "                             99993                      99994  \\\n",
       "0                       0886466636                 0837730287   \n",
       "1   Dark They Were and Golden Eyed   Kissing Legalese Goodbye   \n",
       "2                             Book                       Book   \n",
       "3                          1224967                     321276   \n",
       "4                                0                          0   \n",
       "\n",
       "                                               99995  \\\n",
       "0                                         1585744212   \n",
       "1   A Connoisseur's Guide to Gourmet Recipes and ...   \n",
       "2                                               Book   \n",
       "3                                             345915   \n",
       "4   5  0894801341  189258803X  0767902637  155622...   \n",
       "\n",
       "                                               99996  \\\n",
       "0                                         0340728345   \n",
       "1                                     Anoraknophobia   \n",
       "2                                               Book   \n",
       "3                                             805006   \n",
       "4   5  0841730350  1840234954  1840234970  074325...   \n",
       "\n",
       "                       99997  \\\n",
       "0                 1857925246   \n",
       "1   A Peep Behind the Scenes   \n",
       "2                       Book   \n",
       "3                    1467003   \n",
       "4                          0   \n",
       "\n",
       "                                               99998  \\\n",
       "0                                         0962153222   \n",
       "1                                       German Texts   \n",
       "2                                               Book   \n",
       "3                                             606100   \n",
       "4   5  0962153214  0155848631  0131333720  019516...   \n",
       "\n",
       "                                               99999  \n",
       "0                                         0966616820  \n",
       "1                  Secrets of Successful Fundraising  \n",
       "2                                               Book  \n",
       "3                                             461669  \n",
       "4   5  0966616812  0062732056  0809238462  159196...  \n",
       "\n",
       "[5 rows x 542684 columns]"
      ]
     },
     "execution_count": 6,
     "metadata": {},
     "output_type": "execute_result"
    }
   ],
   "source": [
    "data_df = pd.DataFrame.from_dict(ratings)\n",
    "data_df.head()"
   ]
  },
  {
   "cell_type": "code",
   "execution_count": 7,
   "metadata": {
    "collapsed": false
   },
   "outputs": [
    {
     "data": {
      "text/html": [
       "<div>\n",
       "<table border=\"1\" class=\"dataframe\">\n",
       "  <thead>\n",
       "    <tr style=\"text-align: right;\">\n",
       "      <th></th>\n",
       "      <th>Id</th>\n",
       "      <th>ASIN</th>\n",
       "      <th>title</th>\n",
       "      <th>group</th>\n",
       "      <th>salesrank</th>\n",
       "      <th>similar</th>\n",
       "      <th>num_categories</th>\n",
       "      <th>total_reviews</th>\n",
       "      <th>downloads</th>\n",
       "      <th>avg_rating</th>\n",
       "    </tr>\n",
       "  </thead>\n",
       "  <tbody>\n",
       "    <tr>\n",
       "      <th>0</th>\n",
       "      <td>1</td>\n",
       "      <td>0827229534</td>\n",
       "      <td>A Sermon Sampler</td>\n",
       "      <td>Book</td>\n",
       "      <td>396585</td>\n",
       "      <td>5  0804215715  156101074X  0687023955  068707...</td>\n",
       "      <td>2</td>\n",
       "      <td>2</td>\n",
       "      <td>2</td>\n",
       "      <td>5</td>\n",
       "    </tr>\n",
       "    <tr>\n",
       "      <th>1</th>\n",
       "      <td>10</td>\n",
       "      <td>0375709363</td>\n",
       "      <td>The Edward Said Reader</td>\n",
       "      <td>Book</td>\n",
       "      <td>220379</td>\n",
       "      <td>5  039474067X  0679730672  0679750541  140003...</td>\n",
       "      <td>3</td>\n",
       "      <td>6</td>\n",
       "      <td>6</td>\n",
       "      <td>4</td>\n",
       "    </tr>\n",
       "    <tr>\n",
       "      <th>2</th>\n",
       "      <td>100</td>\n",
       "      <td>0787958743</td>\n",
       "      <td>A Systems Approach to Successful Training (J-...</td>\n",
       "      <td>Book</td>\n",
       "      <td>783690</td>\n",
       "      <td>5  1886624089  0397554168  1560535253  087584...</td>\n",
       "      <td>2</td>\n",
       "      <td>0</td>\n",
       "      <td>0</td>\n",
       "      <td>0</td>\n",
       "    </tr>\n",
       "    <tr>\n",
       "      <th>3</th>\n",
       "      <td>1000</td>\n",
       "      <td>0830815627</td>\n",
       "      <td>Invitation to Theology</td>\n",
       "      <td>Book</td>\n",
       "      <td>497795</td>\n",
       "      <td>5  0830814493  0687095735  0801090962  096026...</td>\n",
       "      <td>1</td>\n",
       "      <td>1</td>\n",
       "      <td>1</td>\n",
       "      <td>5</td>\n",
       "    </tr>\n",
       "    <tr>\n",
       "      <th>4</th>\n",
       "      <td>10000</td>\n",
       "      <td>1589600282</td>\n",
       "      <td>Exposition of Paul's Epistles</td>\n",
       "      <td>Book</td>\n",
       "      <td>1544234</td>\n",
       "      <td>0</td>\n",
       "      <td>3</td>\n",
       "      <td>0</td>\n",
       "      <td>0</td>\n",
       "      <td>0</td>\n",
       "    </tr>\n",
       "  </tbody>\n",
       "</table>\n",
       "</div>"
      ],
      "text/plain": [
       "      Id        ASIN                                              title  \\\n",
       "0      1  0827229534                                   A Sermon Sampler   \n",
       "1     10  0375709363                             The Edward Said Reader   \n",
       "2    100  0787958743   A Systems Approach to Successful Training (J-...   \n",
       "3   1000  0830815627                             Invitation to Theology   \n",
       "4  10000  1589600282                      Exposition of Paul's Epistles   \n",
       "\n",
       "   group salesrank                                            similar  \\\n",
       "0   Book    396585   5  0804215715  156101074X  0687023955  068707...   \n",
       "1   Book    220379   5  039474067X  0679730672  0679750541  140003...   \n",
       "2   Book    783690   5  1886624089  0397554168  1560535253  087584...   \n",
       "3   Book    497795   5  0830814493  0687095735  0801090962  096026...   \n",
       "4   Book   1544234                                                  0   \n",
       "\n",
       "  num_categories total_reviews downloads avg_rating  \n",
       "0              2             2         2          5  \n",
       "1              3             6         6          4  \n",
       "2              2             0         0          0  \n",
       "3              1             1         1          5  \n",
       "4              3             0         0          0  "
      ]
     },
     "execution_count": 7,
     "metadata": {},
     "output_type": "execute_result"
    }
   ],
   "source": [
    "df = data_df.T.reset_index()\n",
    "df.columns = ['Id', 'ASIN', 'title', 'group', 'salesrank', 'similar', 'num_categories', 'total_reviews',\n",
    "              'downloads', 'avg_rating']\n",
    "df.head()"
   ]
  },
  {
   "cell_type": "code",
   "execution_count": 8,
   "metadata": {
    "collapsed": false
   },
   "outputs": [
    {
     "data": {
      "text/html": [
       "<div>\n",
       "<table border=\"1\" class=\"dataframe\">\n",
       "  <thead>\n",
       "    <tr style=\"text-align: right;\">\n",
       "      <th></th>\n",
       "      <th>Id</th>\n",
       "      <th>ASIN</th>\n",
       "      <th>title</th>\n",
       "      <th>group</th>\n",
       "      <th>salesrank</th>\n",
       "      <th>similar</th>\n",
       "      <th>num_categories</th>\n",
       "      <th>total_reviews</th>\n",
       "      <th>downloads</th>\n",
       "      <th>avg_rating</th>\n",
       "    </tr>\n",
       "  </thead>\n",
       "  <tbody>\n",
       "    <tr>\n",
       "      <th>0</th>\n",
       "      <td>1</td>\n",
       "      <td>0827229534</td>\n",
       "      <td>A Sermon Sampler</td>\n",
       "      <td>Book</td>\n",
       "      <td>396585</td>\n",
       "      <td>5  0804215715  156101074X  0687023955  068707...</td>\n",
       "      <td>2</td>\n",
       "      <td>2</td>\n",
       "      <td>2</td>\n",
       "      <td>5.0</td>\n",
       "    </tr>\n",
       "    <tr>\n",
       "      <th>109901</th>\n",
       "      <td>2</td>\n",
       "      <td>0738700797</td>\n",
       "      <td>Feast of Flames</td>\n",
       "      <td>Book</td>\n",
       "      <td>168596</td>\n",
       "      <td>5  0738700827  1567184960  1567182836  073870...</td>\n",
       "      <td>2</td>\n",
       "      <td>12</td>\n",
       "      <td>12</td>\n",
       "      <td>4.5</td>\n",
       "    </tr>\n",
       "    <tr>\n",
       "      <th>219673</th>\n",
       "      <td>3</td>\n",
       "      <td>0486287785</td>\n",
       "      <td>World War II Allied Fighter Planes Trading Cards</td>\n",
       "      <td>Book</td>\n",
       "      <td>1270652</td>\n",
       "      <td>0</td>\n",
       "      <td>1</td>\n",
       "      <td>1</td>\n",
       "      <td>1</td>\n",
       "      <td>5.0</td>\n",
       "    </tr>\n",
       "    <tr>\n",
       "      <th>329476</th>\n",
       "      <td>4</td>\n",
       "      <td>0842328327</td>\n",
       "      <td>1 and 2 Timothy and Titus</td>\n",
       "      <td>Book</td>\n",
       "      <td>631289</td>\n",
       "      <td>5  0842328130  0830818138  0842330313  084232...</td>\n",
       "      <td>5</td>\n",
       "      <td>1</td>\n",
       "      <td>1</td>\n",
       "      <td>4.0</td>\n",
       "    </tr>\n",
       "    <tr>\n",
       "      <th>439370</th>\n",
       "      <td>5</td>\n",
       "      <td>1577943082</td>\n",
       "      <td>Executive</td>\n",
       "      <td>Book</td>\n",
       "      <td>455160</td>\n",
       "      <td>5  157794349X  0892749504  1577941829  089274...</td>\n",
       "      <td>2</td>\n",
       "      <td>0</td>\n",
       "      <td>0</td>\n",
       "      <td>0.0</td>\n",
       "    </tr>\n",
       "  </tbody>\n",
       "</table>\n",
       "</div>"
      ],
      "text/plain": [
       "        Id        ASIN                                              title  \\\n",
       "0        1  0827229534                                   A Sermon Sampler   \n",
       "109901   2  0738700797                                    Feast of Flames   \n",
       "219673   3  0486287785   World War II Allied Fighter Planes Trading Cards   \n",
       "329476   4  0842328327                          1 and 2 Timothy and Titus   \n",
       "439370   5  1577943082                                          Executive   \n",
       "\n",
       "        group  salesrank                                            similar  \\\n",
       "0        Book     396585   5  0804215715  156101074X  0687023955  068707...   \n",
       "109901   Book     168596   5  0738700827  1567184960  1567182836  073870...   \n",
       "219673   Book    1270652                                                  0   \n",
       "329476   Book     631289   5  0842328130  0830818138  0842330313  084232...   \n",
       "439370   Book     455160   5  157794349X  0892749504  1577941829  089274...   \n",
       "\n",
       "        num_categories  total_reviews  downloads  avg_rating  \n",
       "0                    2              2          2         5.0  \n",
       "109901               2             12         12         4.5  \n",
       "219673               1              1          1         5.0  \n",
       "329476               5              1          1         4.0  \n",
       "439370               2              0          0         0.0  "
      ]
     },
     "execution_count": 8,
     "metadata": {},
     "output_type": "execute_result"
    }
   ],
   "source": [
    "#covert some string object to numerical\n",
    "df['Id'] = df['Id'].astype(int)\n",
    "df['salesrank'] = df['salesrank'].astype(int)\n",
    "df['num_categories'] = df['num_categories'].astype(int)\n",
    "df['total_reviews'] = df['total_reviews'].astype(int)\n",
    "df['downloads'] = df['downloads'].astype(int)\n",
    "df['avg_rating'] = df['avg_rating'].astype(float)\n",
    "df['group'] = df['group'].astype(str)\n",
    "df = df.sort_values('Id')\n",
    "df.head()"
   ]
  },
  {
   "cell_type": "code",
   "execution_count": 9,
   "metadata": {
    "collapsed": false
   },
   "outputs": [
    {
     "data": {
      "text/plain": [
       " Book            393561\n",
       " Music           103143\n",
       " Video            26131\n",
       " DVD              19828\n",
       " Toy                  8\n",
       " Software             5\n",
       " CE                   4\n",
       " Baby Product         1\n",
       " Sports               1\n",
       "[]                    1\n",
       " Video Games          1\n",
       "Name: group, dtype: int64"
      ]
     },
     "execution_count": 9,
     "metadata": {},
     "output_type": "execute_result"
    }
   ],
   "source": [
    "#what are all the product groups\n",
    "df.group.value_counts()"
   ]
  },
  {
   "cell_type": "markdown",
   "metadata": {},
   "source": [
    "We can see there are a few product groups that do not appear very often.  For exploring the ratings, we will focus only of the top 4 group categories from the list."
   ]
  },
  {
   "cell_type": "code",
   "execution_count": 10,
   "metadata": {
    "collapsed": false
   },
   "outputs": [
    {
     "data": {
      "text/plain": [
       " Book     393561\n",
       " Music    103143\n",
       " Video     26131\n",
       " DVD       19828\n",
       "Name: group, dtype: int64"
      ]
     },
     "execution_count": 10,
     "metadata": {},
     "output_type": "execute_result"
    }
   ],
   "source": [
    "list = [' Book', ' Music', ' Video', ' DVD']\n",
    "df2 = df[df['group'].isin(list)]\n",
    "df2.group.value_counts()"
   ]
  },
  {
   "cell_type": "code",
   "execution_count": 11,
   "metadata": {
    "collapsed": false
   },
   "outputs": [
    {
     "data": {
      "text/html": [
       "<div>\n",
       "<table border=\"1\" class=\"dataframe\">\n",
       "  <thead>\n",
       "    <tr style=\"text-align: right;\">\n",
       "      <th></th>\n",
       "      <th>Id</th>\n",
       "      <th>salesrank</th>\n",
       "      <th>num_categories</th>\n",
       "      <th>total_reviews</th>\n",
       "      <th>downloads</th>\n",
       "      <th>avg_rating</th>\n",
       "    </tr>\n",
       "  </thead>\n",
       "  <tbody>\n",
       "    <tr>\n",
       "      <th>count</th>\n",
       "      <td>542663.000000</td>\n",
       "      <td>5.426630e+05</td>\n",
       "      <td>542663.000000</td>\n",
       "      <td>542663.000000</td>\n",
       "      <td>542663.000000</td>\n",
       "      <td>542663.000000</td>\n",
       "    </tr>\n",
       "    <tr>\n",
       "      <th>mean</th>\n",
       "      <td>274413.731968</td>\n",
       "      <td>4.893425e+05</td>\n",
       "      <td>4.624515</td>\n",
       "      <td>14.340250</td>\n",
       "      <td>13.992435</td>\n",
       "      <td>3.209519</td>\n",
       "    </tr>\n",
       "    <tr>\n",
       "      <th>std</th>\n",
       "      <td>158454.407937</td>\n",
       "      <td>5.677264e+05</td>\n",
       "      <td>4.450630</td>\n",
       "      <td>74.769781</td>\n",
       "      <td>71.909770</td>\n",
       "      <td>1.996306</td>\n",
       "    </tr>\n",
       "    <tr>\n",
       "      <th>min</th>\n",
       "      <td>1.000000</td>\n",
       "      <td>-1.000000e+00</td>\n",
       "      <td>0.000000</td>\n",
       "      <td>0.000000</td>\n",
       "      <td>0.000000</td>\n",
       "      <td>0.000000</td>\n",
       "    </tr>\n",
       "    <tr>\n",
       "      <th>25%</th>\n",
       "      <td>137160.500000</td>\n",
       "      <td>9.075900e+04</td>\n",
       "      <td>2.000000</td>\n",
       "      <td>0.000000</td>\n",
       "      <td>0.000000</td>\n",
       "      <td>0.000000</td>\n",
       "    </tr>\n",
       "    <tr>\n",
       "      <th>50%</th>\n",
       "      <td>274428.000000</td>\n",
       "      <td>3.005140e+05</td>\n",
       "      <td>4.000000</td>\n",
       "      <td>2.000000</td>\n",
       "      <td>2.000000</td>\n",
       "      <td>4.000000</td>\n",
       "    </tr>\n",
       "    <tr>\n",
       "      <th>75%</th>\n",
       "      <td>411673.500000</td>\n",
       "      <td>6.720870e+05</td>\n",
       "      <td>6.000000</td>\n",
       "      <td>8.000000</td>\n",
       "      <td>7.000000</td>\n",
       "      <td>5.000000</td>\n",
       "    </tr>\n",
       "    <tr>\n",
       "      <th>max</th>\n",
       "      <td>548550.000000</td>\n",
       "      <td>3.798351e+06</td>\n",
       "      <td>116.000000</td>\n",
       "      <td>5545.000000</td>\n",
       "      <td>4995.000000</td>\n",
       "      <td>5.000000</td>\n",
       "    </tr>\n",
       "  </tbody>\n",
       "</table>\n",
       "</div>"
      ],
      "text/plain": [
       "                  Id     salesrank  num_categories  total_reviews  \\\n",
       "count  542663.000000  5.426630e+05   542663.000000  542663.000000   \n",
       "mean   274413.731968  4.893425e+05        4.624515      14.340250   \n",
       "std    158454.407937  5.677264e+05        4.450630      74.769781   \n",
       "min         1.000000 -1.000000e+00        0.000000       0.000000   \n",
       "25%    137160.500000  9.075900e+04        2.000000       0.000000   \n",
       "50%    274428.000000  3.005140e+05        4.000000       2.000000   \n",
       "75%    411673.500000  6.720870e+05        6.000000       8.000000   \n",
       "max    548550.000000  3.798351e+06      116.000000    5545.000000   \n",
       "\n",
       "           downloads     avg_rating  \n",
       "count  542663.000000  542663.000000  \n",
       "mean       13.992435       3.209519  \n",
       "std        71.909770       1.996306  \n",
       "min         0.000000       0.000000  \n",
       "25%         0.000000       0.000000  \n",
       "50%         2.000000       4.000000  \n",
       "75%         7.000000       5.000000  \n",
       "max      4995.000000       5.000000  "
      ]
     },
     "execution_count": 11,
     "metadata": {},
     "output_type": "execute_result"
    }
   ],
   "source": [
    "df2.describe()"
   ]
  },
  {
   "cell_type": "code",
   "execution_count": 12,
   "metadata": {
    "collapsed": false
   },
   "outputs": [
    {
     "data": {
      "text/plain": [
       "<matplotlib.axes._subplots.AxesSubplot at 0x1d1b2516048>"
      ]
     },
     "execution_count": 12,
     "metadata": {},
     "output_type": "execute_result"
    },
    {
     "data": {
      "image/png": "[encoded data removed]",
      "text/plain": [
       "<matplotlib.figure.Figure at 0x1d1b1f0d240>"
      ]
     },
     "metadata": {},
     "output_type": "display_data"
    }
   ],
   "source": [
    "df2['avg_rating'].plot(kind = 'hist')"
   ]
  },
  {
   "cell_type": "markdown",
   "metadata": {},
   "source": [
    "The histogram of avg ratings is interesting in that the extremes of ratings 0 vs 5 appear with much more frequency than do middling reviews.  There ends up being a bias in the ratings in that the extrems, people who are either very please or very displeased, tend to have a higher rating entry capture rate.\n"
   ]
  },
  {
   "cell_type": "markdown",
   "metadata": {},
   "source": [
    "### Category bloat\n",
    "Consider the product group named 'Books'. Each product in this group is associated with categories. Naturally, with categorization, there are tradeoffs between how broad or specific the categories must be. For this dataset, quantify the following:\n",
    "\n",
    "a. Is there redundancy in the categorization? How can it be identified/removed?\n",
    "\n",
    "b. Is is possible to reduce the number of categories drastically (say to 10% of existing categories) by sacrificing relatively few category entries (say close to 10%)?"
   ]
  },
  {
   "cell_type": "markdown",
   "metadata": {},
   "source": [
    "#### For part a, we will need to split apart the categorization better."
   ]
  },
  {
   "cell_type": "code",
   "execution_count": 13,
   "metadata": {
    "collapsed": false
   },
   "outputs": [
    {
     "data": {
      "text/html": [
       "<div>\n",
       "<table border=\"1\" class=\"dataframe\">\n",
       "  <thead>\n",
       "    <tr style=\"text-align: right;\">\n",
       "      <th></th>\n",
       "      <th>0</th>\n",
       "    </tr>\n",
       "  </thead>\n",
       "  <tbody>\n",
       "    <tr>\n",
       "      <th>0</th>\n",
       "      <td>Books[283155]</td>\n",
       "    </tr>\n",
       "    <tr>\n",
       "      <th>1</th>\n",
       "      <td>Subjects[1000]</td>\n",
       "    </tr>\n",
       "    <tr>\n",
       "      <th>2</th>\n",
       "      <td>Religion &amp; Spirituality[22]</td>\n",
       "    </tr>\n",
       "    <tr>\n",
       "      <th>3</th>\n",
       "      <td>Christianity[12290]</td>\n",
       "    </tr>\n",
       "    <tr>\n",
       "      <th>4</th>\n",
       "      <td>Clergy[12360]</td>\n",
       "    </tr>\n",
       "  </tbody>\n",
       "</table>\n",
       "</div>"
      ],
      "text/plain": [
       "                             0\n",
       "0                Books[283155]\n",
       "1               Subjects[1000]\n",
       "2  Religion & Spirituality[22]\n",
       "3          Christianity[12290]\n",
       "4                Clergy[12360]"
      ]
     },
     "execution_count": 13,
     "metadata": {},
     "output_type": "execute_result"
    }
   ],
   "source": [
    "import re\n",
    "category_list=[]  #top category list\n",
    "totals = 0\n",
    "#lets strip out the subcategories for books and create a df\n",
    "for group in id_groups:\n",
    "    for block in group:\n",
    "        if block.startswith('  group:'):\n",
    "            product = block.split(':')[-1]\n",
    "            if 'Book' in product : totals+=1\n",
    "        elif block.startswith('   |Books'):\n",
    "            category_list.append(block.strip())\n",
    "sub_category = []\n",
    "for line in category_list:\n",
    "    for subcat in line.split('|')[1:]:\n",
    "        sub_category.append(subcat)\n",
    "\n",
    "categorical_df = pd.DataFrame.from_dict(sub_category)\n",
    "categorical_df.head()"
   ]
  },
  {
   "cell_type": "code",
   "execution_count": 14,
   "metadata": {
    "collapsed": false
   },
   "outputs": [
    {
     "name": "stdout",
     "output_type": "stream",
     "text": [
      "total number of books                               : 393561\n",
      "total categories/sub_categories for all books       : 6920870\n",
      "total unique categories/sub_categories for all books: 12930\n"
     ]
    },
    {
     "data": {
      "text/plain": [
       "Books[283155]                       1287060\n",
       "Subjects[1000]                      1222836\n",
       "Children's Books[4]                  134299\n",
       "Nonfiction[53]                       106977\n",
       "Religion & Spirituality[22]           93690\n",
       "Literature & Fiction[17]              84721\n",
       "Business & Investing[3]               74125\n",
       "Professional & Technical[173507]      67693\n",
       "Computers & Internet[5]               66742\n",
       "Health, Mind & Body[10]               66380\n",
       "Reference[21]                         50115\n",
       "History[9]                            48131\n",
       "Christianity[12290]                   41872\n",
       "Science[75]                           41727\n",
       "Biographies & Memoirs[2]              40075\n",
       "Home & Garden[48]                     39598\n",
       "Arts & Photography[1]                 36472\n",
       "Entertainment[86]                     34815\n",
       "Formats[504358]                       34524\n",
       "Social Sciences[11232]                31391\n",
       "Name: 0, dtype: int64"
      ]
     },
     "execution_count": 14,
     "metadata": {},
     "output_type": "execute_result"
    }
   ],
   "source": [
    "print ('total number of books                               :', totals)\n",
    "print ('total categories/sub_categories for all books       :', len(categorical_df[0]))\n",
    "print ('total unique categories/sub_categories for all books:', len(categorical_df[0].unique()))\n",
    "\n",
    "#get the unique category counts and exploring the top 20 unique\n",
    "categorical_df[0].value_counts().head(20)"
   ]
  },
  {
   "cell_type": "markdown",
   "metadata": {},
   "source": [
    "We can see that there is a fair amount of redundancy in the category structure setup.  Entries that are very non-descript like \"Subjects\" might easily be dropped.  "
   ]
  },
  {
   "cell_type": "markdown",
   "metadata": {},
   "source": [
    "### B. (Suggested duration: 30 mins)\n",
    "\n",
    "#### 1. Algorithm thinking\n",
    "How would build the product categorization from scratch, using similar/co-purchased\n",
    "information?\n",
    "#### 2. Product thinking\n",
    "Now, put on your 'product thinking' hat.\n",
    "\n",
    "    a. Is it a good idea to show users the categorization hierarchy for items?\n",
    "    b. Is it a good idea to show users similar/co-purchased items?\n",
    "    c. Is it a good idea to show users reviews and ratings for items?\n",
    "    d. For each of the above, why? How will you establish the same?"
   ]
  },
  {
   "cell_type": "markdown",
   "metadata": {},
   "source": [
    "The best way to create a product categorization schema from scratch may be to create a categorization algorithm from the purchase information and the item descriptions.  \n",
    "\n",
    "I believe categorization heirachy is not a necessary item to show, but when a user wants to see it there could be an available drop down.  This would prevent cluttering but still allow the user to access the info if wanted.\n",
    "\n",
    "Showing similar/co-purchased items is a great idea to show users.  Often times this can speed up the search process for the user and the user may not always be aware they need or want the similar/co-purchased item until reminded.  This could increase the number of purchases made per visit.  \n",
    "\n",
    "User reviews and ratings are critical to many user's purchase habits and should be shown.  Care must be taken to ensure the reviews/ratings are as accurate and trustworthy as possible because negative experience on a product could also erode trust in purchasing from the site again.\n",
    "\n"
   ]
  },
  {
   "cell_type": "code",
   "execution_count": null,
   "metadata": {
    "collapsed": true
   },
   "outputs": [],
   "source": []
  },
  {
   "cell_type": "code",
   "execution_count": null,
   "metadata": {
    "collapsed": true
   },
   "outputs": [],
   "source": []
  },
  {
   "cell_type": "code",
   "execution_count": null,
   "metadata": {
    "collapsed": true
   },
   "outputs": [],
   "source": []
  },
  {
   "cell_type": "code",
   "execution_count": null,
   "metadata": {
    "collapsed": true
   },
   "outputs": [],
   "source": []
  }
 ],
 "metadata": {
  "kernelspec": {
   "display_name": "Python 3",
   "language": "python",
   "name": "python3"
  },
  "language_info": {
   "codemirror_mode": {
    "name": "ipython",
    "version": 3
   },
   "file_extension": ".py",
   "mimetype": "text/x-python",
   "name": "python",
   "nbconvert_exporter": "python",
   "pygments_lexer": "ipython3",
   "version": "3.6.0"
  }
 },
 "nbformat": 4,
 "nbformat_minor": 2
}
